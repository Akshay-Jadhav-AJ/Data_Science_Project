{
 "cells": [
  {
   "cell_type": "code",
   "execution_count": 15,
   "id": "1aab8062",
   "metadata": {},
   "outputs": [],
   "source": [
    "import pickle\n",
    "import os\n",
    "from datetime import datetime\n",
    "import pandas as pd\n",
    "import numpy as np\n",
    "\n",
    "# Supress Warnings\n",
    "import warnings\n",
    "warnings.filterwarnings('ignore')"
   ]
  },
  {
   "cell_type": "code",
   "execution_count": 16,
   "id": "0fd0a6db",
   "metadata": {},
   "outputs": [],
   "source": [
    "model_path = r\"C:\\Users\\Akshay\\Documents\\Project\\Models\\xgboost_regressor_r2_0_916_v1.pkl\"\n",
    "model = pickle.load(open(model_path, \"rb\"))   # rb :- Read Binary."
   ]
  },
  {
   "cell_type": "code",
   "execution_count": 17,
   "id": "6bb88d1e",
   "metadata": {},
   "outputs": [
    {
     "data": {
      "text/plain": [
       "[-134.08298, 1242.9778]"
      ]
     },
     "execution_count": 17,
     "metadata": {},
     "output_type": "execute_result"
    }
   ],
   "source": [
    "data = [\n",
    "    [ 1.07807977,  0.22192612,  0.77468297,  1.82005277, -1.26200749,\n",
    "       -0.25194272, -0.12916836, -0.17535463, -0.22754885, -5.47803337,\n",
    "       -1.21546253,  1.00873202,  0.30459857,  1.74132735, -0.58152447,\n",
    "       -0.57866842, -0.39840954, -0.40773843, -0.41815465, -0.40773843,\n",
    "       -0.40559398, -0.41815465],\n",
    "    [-0.65432992,  1.24504573,  0.23697162, -0.5001855 ,  0.56154562,\n",
    "       -0.28664608, -0.12916836, -0.17535463, -0.22754885,  0.18254726,\n",
    "        0.94712104,  0.14077827,  0.30459857, -0.57427456,  1.71961809,\n",
    "       -0.57866842, -0.39840954, -0.40773843, -0.41815465, -0.40773843,\n",
    "        2.4655198 , -0.41815465]\n",
    "   \n",
    "]\n",
    "\n",
    "\n",
    "prediction = model.predict(data)\n",
    "list(prediction)"
   ]
  },
  {
   "cell_type": "markdown",
   "id": "1f17bab0",
   "metadata": {},
   "source": [
    "## Load SC"
   ]
  },
  {
   "cell_type": "code",
   "execution_count": 18,
   "id": "25a162c2",
   "metadata": {},
   "outputs": [],
   "source": [
    "sc_dump_path = r\"C:\\Users\\Akshay\\Documents\\Project\\Models\\sc.pkl\"\n",
    "\n",
    "sc = pickle.load(open(sc_dump_path, \"rb\"))"
   ]
  },
  {
   "cell_type": "code",
   "execution_count": 19,
   "id": "42aa2a65",
   "metadata": {},
   "outputs": [
    {
     "data": {
      "text/plain": [
       "StandardScaler()"
      ]
     },
     "execution_count": 19,
     "metadata": {},
     "output_type": "execute_result"
    }
   ],
   "source": [
    "sc"
   ]
  },
  {
   "cell_type": "markdown",
   "id": "392c28a4",
   "metadata": {},
   "source": [
    "## User Input"
   ]
  },
  {
   "cell_type": "code",
   "execution_count": 29,
   "id": "636785cf",
   "metadata": {},
   "outputs": [],
   "source": [
    "date = \"15/06/2023\"\n",
    "hour = 18\n",
    "temperature = 25\n",
    "humidity = 55\n",
    "wind_speed = 67\n",
    "visibility = 80\n",
    "solar_radiation = 0.0\n",
    "rainfall = 0.0\n",
    "snowfall = 0.2\n",
    "seasons = \"Winter\"\n",
    "holiday = \"No Holiday\"\n",
    "functioning_day = \"No\""
   ]
  },
  {
   "cell_type": "markdown",
   "id": "dc865111",
   "metadata": {},
   "source": [
    "## Converting User Data into Model Consumable Format"
   ]
  },
  {
   "cell_type": "code",
   "execution_count": 30,
   "id": "4c878495",
   "metadata": {},
   "outputs": [
    {
     "data": {
      "text/plain": [
       "{'day': 15, 'month': 6, 'year': 2023, 'weekday': 'Thursday'}"
      ]
     },
     "execution_count": 30,
     "metadata": {},
     "output_type": "execute_result"
    }
   ],
   "source": [
    "from datetime import datetime\n",
    "\n",
    "holiday_dic = {\"No Holiday\" : 0, \"Holiday\" : 1}\n",
    "functioning_day = {\"No\" : 0, \"Yes\" : 1}\n",
    "\n",
    "holiday_dic[\"holiday\"] = 0\n",
    "functioning_day[\"functioning_day\"] = 1\n",
    "\n",
    "def get_string_to_datetime(date):\n",
    "    dt = datetime.strptime(date, \"%d/%m/%Y\")\n",
    "    return {\"day\":dt.day, \"month\":dt.month, \"year\":dt.year, \"weekday\":dt.strftime(\"%A\")}\n",
    "\n",
    "str_to_date = get_string_to_datetime(date)\n",
    "str_to_date"
   ]
  },
  {
   "cell_type": "code",
   "execution_count": 31,
   "id": "fe65470a",
   "metadata": {},
   "outputs": [
    {
     "data": {
      "text/html": [
       "<div>\n",
       "<style scoped>\n",
       "    .dataframe tbody tr th:only-of-type {\n",
       "        vertical-align: middle;\n",
       "    }\n",
       "\n",
       "    .dataframe tbody tr th {\n",
       "        vertical-align: top;\n",
       "    }\n",
       "\n",
       "    .dataframe thead th {\n",
       "        text-align: right;\n",
       "    }\n",
       "</style>\n",
       "<table border=\"1\" class=\"dataframe\">\n",
       "  <thead>\n",
       "    <tr style=\"text-align: right;\">\n",
       "      <th></th>\n",
       "      <th>Hour</th>\n",
       "      <th>Temperature(°C)</th>\n",
       "      <th>Humidity(%)</th>\n",
       "      <th>Wind speed (m/s)</th>\n",
       "      <th>Visibility (10m)</th>\n",
       "      <th>Solar Radiation (MJ/m2)</th>\n",
       "      <th>Rainfall (mm)</th>\n",
       "      <th>Snowfall (cm)</th>\n",
       "      <th>Holiday</th>\n",
       "      <th>Functioning Day</th>\n",
       "      <th>Day</th>\n",
       "      <th>Month</th>\n",
       "      <th>Year</th>\n",
       "    </tr>\n",
       "  </thead>\n",
       "  <tbody>\n",
       "    <tr>\n",
       "      <th>0</th>\n",
       "      <td>18</td>\n",
       "      <td>25</td>\n",
       "      <td>55</td>\n",
       "      <td>67</td>\n",
       "      <td>80</td>\n",
       "      <td>0.0</td>\n",
       "      <td>0.0</td>\n",
       "      <td>0.2</td>\n",
       "      <td>0</td>\n",
       "      <td>1</td>\n",
       "      <td>15</td>\n",
       "      <td>6</td>\n",
       "      <td>2023</td>\n",
       "    </tr>\n",
       "  </tbody>\n",
       "</table>\n",
       "</div>"
      ],
      "text/plain": [
       "   Hour  Temperature(°C)  Humidity(%)  Wind speed (m/s)  Visibility (10m)  \\\n",
       "0    18               25           55                67                80   \n",
       "\n",
       "   Solar Radiation (MJ/m2)  Rainfall (mm)  Snowfall (cm)  Holiday  \\\n",
       "0                      0.0            0.0            0.2        0   \n",
       "\n",
       "   Functioning Day  Day  Month  Year  \n",
       "0                1   15      6  2023  "
      ]
     },
     "execution_count": 31,
     "metadata": {},
     "output_type": "execute_result"
    }
   ],
   "source": [
    "u_input_list = [hour, temperature, humidity, wind_speed, visibility, solar_radiation, rainfall, snowfall,\n",
    "                holiday_dic.get('holiday'), functioning_day.get('functioning_day'),\n",
    "                str_to_date[\"day\"], str_to_date[\"month\"], str_to_date[\"year\"]]\n",
    "                \n",
    "features_name = ['Hour', 'Temperature(°C)', 'Humidity(%)', 'Wind speed (m/s)', 'Visibility (10m)', 'Solar Radiation (MJ/m2)', \n",
    "                 'Rainfall (mm)', 'Snowfall (cm)', 'Holiday', 'Functioning Day', 'Day', 'Month', 'Year']\n",
    "\n",
    "df_u_input = pd.DataFrame([u_input_list], columns = features_name)\n",
    "df_u_input"
   ]
  },
  {
   "cell_type": "code",
   "execution_count": 32,
   "id": "5a275beb",
   "metadata": {},
   "outputs": [
    {
     "data": {
      "text/html": [
       "<div>\n",
       "<style scoped>\n",
       "    .dataframe tbody tr th:only-of-type {\n",
       "        vertical-align: middle;\n",
       "    }\n",
       "\n",
       "    .dataframe tbody tr th {\n",
       "        vertical-align: top;\n",
       "    }\n",
       "\n",
       "    .dataframe thead th {\n",
       "        text-align: right;\n",
       "    }\n",
       "</style>\n",
       "<table border=\"1\" class=\"dataframe\">\n",
       "  <thead>\n",
       "    <tr style=\"text-align: right;\">\n",
       "      <th></th>\n",
       "      <th>Spring</th>\n",
       "      <th>Summer</th>\n",
       "      <th>Winter</th>\n",
       "    </tr>\n",
       "  </thead>\n",
       "  <tbody>\n",
       "    <tr>\n",
       "      <th>0</th>\n",
       "      <td>0</td>\n",
       "      <td>0</td>\n",
       "      <td>1</td>\n",
       "    </tr>\n",
       "  </tbody>\n",
       "</table>\n",
       "</div>"
      ],
      "text/plain": [
       "   Spring  Summer  Winter\n",
       "0       0       0       1"
      ]
     },
     "execution_count": 32,
     "metadata": {},
     "output_type": "execute_result"
    }
   ],
   "source": [
    "def season_to_df(seasons):   \n",
    "    seasons_cols = ['Spring', 'Summer', 'Winter']\n",
    "    seasons_data = np.zeros((1, len(seasons_cols)), dtype=\"int\")\n",
    "\n",
    "    df_seasons = pd.DataFrame(seasons_data, columns = seasons_cols)\n",
    "    if seasons in seasons_cols:\n",
    "        df_seasons[seasons]=1\n",
    "    return df_seasons\n",
    "\n",
    "df_season=season_to_df(seasons)\n",
    "df_season"
   ]
  },
  {
   "cell_type": "code",
   "execution_count": 33,
   "id": "3209629b",
   "metadata": {},
   "outputs": [
    {
     "data": {
      "text/html": [
       "<div>\n",
       "<style scoped>\n",
       "    .dataframe tbody tr th:only-of-type {\n",
       "        vertical-align: middle;\n",
       "    }\n",
       "\n",
       "    .dataframe tbody tr th {\n",
       "        vertical-align: top;\n",
       "    }\n",
       "\n",
       "    .dataframe thead th {\n",
       "        text-align: right;\n",
       "    }\n",
       "</style>\n",
       "<table border=\"1\" class=\"dataframe\">\n",
       "  <thead>\n",
       "    <tr style=\"text-align: right;\">\n",
       "      <th></th>\n",
       "      <th>Monday</th>\n",
       "      <th>Saturday</th>\n",
       "      <th>Sunday</th>\n",
       "      <th>Thursday</th>\n",
       "      <th>Tuesday</th>\n",
       "      <th>Wednesday</th>\n",
       "    </tr>\n",
       "  </thead>\n",
       "  <tbody>\n",
       "    <tr>\n",
       "      <th>0</th>\n",
       "      <td>0</td>\n",
       "      <td>0</td>\n",
       "      <td>0</td>\n",
       "      <td>1</td>\n",
       "      <td>0</td>\n",
       "      <td>0</td>\n",
       "    </tr>\n",
       "  </tbody>\n",
       "</table>\n",
       "</div>"
      ],
      "text/plain": [
       "   Monday  Saturday  Sunday  Thursday  Tuesday  Wednesday\n",
       "0       0         0       0         1        0          0"
      ]
     },
     "execution_count": 33,
     "metadata": {},
     "output_type": "execute_result"
    }
   ],
   "source": [
    "def days_df(weekday):\n",
    "    days_names = ['Monday', 'Saturday', 'Sunday', 'Thursday', 'Tuesday', 'Wednesday']\n",
    "    days_name_data = np.zeros((1, len(days_names)), dtype=\"int\")\n",
    "    \n",
    "    df_days = pd.DataFrame(days_name_data, columns = days_names)\n",
    "    \n",
    "    if weekday in days_names:\n",
    "        df_days[weekday]=1\n",
    "        return df_days\n",
    "    \n",
    "df_days = days_df(str_to_date[\"weekday\"])\n",
    "df_days"
   ]
  },
  {
   "cell_type": "code",
   "execution_count": 34,
   "id": "d443c916",
   "metadata": {},
   "outputs": [
    {
     "data": {
      "text/plain": [
       "['Hour',\n",
       " 'Temperature(°C)',\n",
       " 'Humidity(%)',\n",
       " 'Wind speed (m/s)',\n",
       " 'Visibility (10m)',\n",
       " 'Dew point temperature(°C)',\n",
       " 'Solar Radiation (MJ/m2)',\n",
       " 'Rainfall(mm)',\n",
       " 'Snowfall (cm)',\n",
       " 'Holiday',\n",
       " 'Functioning Day',\n",
       " 'Day',\n",
       " 'Month',\n",
       " 'Year',\n",
       " 'Spring',\n",
       " 'Summer',\n",
       " 'Winter',\n",
       " 'Monday',\n",
       " 'Saturday',\n",
       " 'Sunday',\n",
       " 'Thursday',\n",
       " 'Tuesday',\n",
       " 'Wednesday']"
      ]
     },
     "execution_count": 34,
     "metadata": {},
     "output_type": "execute_result"
    }
   ],
   "source": [
    "['Hour', 'Temperature(°C)', 'Humidity(%)',\n",
    "       'Wind speed (m/s)', 'Visibility (10m)', 'Dew point temperature(°C)',\n",
    "       'Solar Radiation (MJ/m2)', 'Rainfall(mm)', 'Snowfall (cm)', 'Holiday',\n",
    "       'Functioning Day', 'Day', 'Month', 'Year', 'Spring', 'Summer', 'Winter',\n",
    "       'Monday', 'Saturday', 'Sunday', 'Thursday', 'Tuesday', 'Wednesday']"
   ]
  },
  {
   "cell_type": "code",
   "execution_count": 35,
   "id": "aeb6c00b",
   "metadata": {},
   "outputs": [
    {
     "data": {
      "text/html": [
       "<div>\n",
       "<style scoped>\n",
       "    .dataframe tbody tr th:only-of-type {\n",
       "        vertical-align: middle;\n",
       "    }\n",
       "\n",
       "    .dataframe tbody tr th {\n",
       "        vertical-align: top;\n",
       "    }\n",
       "\n",
       "    .dataframe thead th {\n",
       "        text-align: right;\n",
       "    }\n",
       "</style>\n",
       "<table border=\"1\" class=\"dataframe\">\n",
       "  <thead>\n",
       "    <tr style=\"text-align: right;\">\n",
       "      <th></th>\n",
       "      <th>Hour</th>\n",
       "      <th>Temperature(°C)</th>\n",
       "      <th>Humidity(%)</th>\n",
       "      <th>Wind speed (m/s)</th>\n",
       "      <th>Visibility (10m)</th>\n",
       "      <th>Solar Radiation (MJ/m2)</th>\n",
       "      <th>Rainfall (mm)</th>\n",
       "      <th>Snowfall (cm)</th>\n",
       "      <th>Holiday</th>\n",
       "      <th>Functioning Day</th>\n",
       "      <th>...</th>\n",
       "      <th>Year</th>\n",
       "      <th>Spring</th>\n",
       "      <th>Summer</th>\n",
       "      <th>Winter</th>\n",
       "      <th>Monday</th>\n",
       "      <th>Saturday</th>\n",
       "      <th>Sunday</th>\n",
       "      <th>Thursday</th>\n",
       "      <th>Tuesday</th>\n",
       "      <th>Wednesday</th>\n",
       "    </tr>\n",
       "  </thead>\n",
       "  <tbody>\n",
       "    <tr>\n",
       "      <th>0</th>\n",
       "      <td>18</td>\n",
       "      <td>25</td>\n",
       "      <td>55</td>\n",
       "      <td>67</td>\n",
       "      <td>80</td>\n",
       "      <td>0.0</td>\n",
       "      <td>0.0</td>\n",
       "      <td>0.2</td>\n",
       "      <td>0</td>\n",
       "      <td>1</td>\n",
       "      <td>...</td>\n",
       "      <td>2023</td>\n",
       "      <td>0</td>\n",
       "      <td>0</td>\n",
       "      <td>1</td>\n",
       "      <td>0</td>\n",
       "      <td>0</td>\n",
       "      <td>0</td>\n",
       "      <td>1</td>\n",
       "      <td>0</td>\n",
       "      <td>0</td>\n",
       "    </tr>\n",
       "  </tbody>\n",
       "</table>\n",
       "<p>1 rows × 22 columns</p>\n",
       "</div>"
      ],
      "text/plain": [
       "   Hour  Temperature(°C)  Humidity(%)  Wind speed (m/s)  Visibility (10m)  \\\n",
       "0    18               25           55                67                80   \n",
       "\n",
       "   Solar Radiation (MJ/m2)  Rainfall (mm)  Snowfall (cm)  Holiday  \\\n",
       "0                      0.0            0.0            0.2        0   \n",
       "\n",
       "   Functioning Day  ...  Year  Spring  Summer  Winter  Monday  Saturday  \\\n",
       "0                1  ...  2023       0       0       1       0         0   \n",
       "\n",
       "   Sunday  Thursday  Tuesday  Wednesday  \n",
       "0       0         1        0          0  \n",
       "\n",
       "[1 rows x 22 columns]"
      ]
     },
     "execution_count": 35,
     "metadata": {},
     "output_type": "execute_result"
    }
   ],
   "source": [
    "df_for_pred = pd.concat([df_u_input, df_season, df_days], axis=1)\n",
    "df_for_pred"
   ]
  },
  {
   "cell_type": "code",
   "execution_count": 36,
   "id": "2e8473ac",
   "metadata": {},
   "outputs": [
    {
     "data": {
      "text/plain": [
       "array([[ 0.93371229,  1.01214045, -0.15409119, 63.11301355, -2.24303289,\n",
       "        -0.65681529, -0.12916836,  0.29083855, -0.22754885,  0.18254726,\n",
       "        -0.07726065, -0.14853965, 18.24263884, -0.57427456, -0.58152447,\n",
       "         1.72810536, -0.39840954, -0.40773843, -0.41815465,  2.45255275,\n",
       "        -0.40559398, -0.41815465]])"
      ]
     },
     "execution_count": 36,
     "metadata": {},
     "output_type": "execute_result"
    }
   ],
   "source": [
    "sc_data_for_pred = sc.transform(df_for_pred)\n",
    "sc_data_for_pred"
   ]
  },
  {
   "cell_type": "markdown",
   "id": "2ce48f82",
   "metadata": {},
   "source": [
    "## <font color='blue'> Prediction in Deployment </font>"
   ]
  },
  {
   "cell_type": "code",
   "execution_count": 37,
   "id": "e8be6abb",
   "metadata": {},
   "outputs": [
    {
     "name": "stdout",
     "output_type": "stream",
     "text": [
      "Rented Bike Demand on Date: 15/06/2023, and Time: 18 is : 1610\n"
     ]
    }
   ],
   "source": [
    "print(f\"Rented Bike Demand on Date: {date}, and Time: {hour} is : {round(model.predict(sc_data_for_pred).tolist()[0])}\")"
   ]
  },
  {
   "cell_type": "code",
   "execution_count": null,
   "id": "06cedace",
   "metadata": {},
   "outputs": [],
   "source": []
  },
  {
   "cell_type": "code",
   "execution_count": null,
   "id": "16f7201e",
   "metadata": {},
   "outputs": [],
   "source": []
  }
 ],
 "metadata": {
  "kernelspec": {
   "display_name": "Python 3 (ipykernel)",
   "language": "python",
   "name": "python3"
  },
  "language_info": {
   "codemirror_mode": {
    "name": "ipython",
    "version": 3
   },
   "file_extension": ".py",
   "mimetype": "text/x-python",
   "name": "python",
   "nbconvert_exporter": "python",
   "pygments_lexer": "ipython3",
   "version": "3.9.13"
  }
 },
 "nbformat": 4,
 "nbformat_minor": 5
}
